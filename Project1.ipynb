{
 "cells": [
  {
   "cell_type": "markdown",
   "id": "7e0a50e9-b324-4d81-9461-b6e6f81e115b",
   "metadata": {},
   "source": [
    "#Project 1\n"
   ]
  },
  {
   "cell_type": "code",
   "execution_count": null,
   "id": "e5ad5ee3-8812-43e5-91db-17e653d6e822",
   "metadata": {
    "tags": []
   },
   "outputs": [],
   "source": [
    "Setup data \n",
    "Fetch data\n",
    "\n",
    "Monte carlo simulation \n",
    "volume during halving events\n",
    "correlation between cryptos and gold\n",
    "\n",
    "what did cryptos do during gold breakout\n",
    "# Show the correlation value between btc and eth. Is it a strong correlation?\n",
    "did cryptos really take away market strength from gold based on gold historical movements\n",
    "# Plot  moving averages since btc and eth inception\n",
    "\n",
    "Crypto price growth\n",
    "# Plot price action of BTC ETH year to daTe\n",
    "# Plot 5 year price action of BTC / ETH\n",
    "# Plot 200 day moving average of BTC / ETH and Gold year to date\n",
    "# Plot 200 day moving average of BTC / ETH for 5 years\n",
    "Crypto mining growth \n",
    "#  Plot price action of BTC / ETH miners (MARA,  RIOT)\n",
    "# Plot 5 year price action of BTC / ETH miners (MARA , RIOT)\n",
    "# Plot 200 day moving average of BTC / ETH miners (MARA , RIOT) year to date\n",
    "#  Plot  5 year market cap growth of crypto miners(MARA RIOT)\n",
    "\n",
    "Data collection on Gold\n",
    "# Plot price action of Gold year to daTe\n",
    "# Plot 5 year price action of Gold\n",
    "# Plot 200 day moving average of Gold year to date\n",
    "# Plot 200 day moving average of Gold for 5 years\n",
    "Gold  mining growth \n",
    "#  Plot price action of Gold miners ( AU , AEM)\n",
    "# Plot 5 year price action of Gold miners ( AU , AEM)\n",
    "# Plot 200 day moving average of Gold miners ( AU , AEM) year to date\n",
    "#  Plot 5 year market cap growth of Gold miners ( AU , AEM) \n",
    "\n",
    "What did the 3 instruments do during the week of the last BTC halving event\n",
    "# Show the price of BTC during the month of btc halving event on May 11, 2020 7:23:43 PM UTC.\n",
    "# Show the price of gold during the month of btc halving event on May 11, 2020 7:23:43 PM UTC.\n",
    "# Show the price of ETH  during the mont of btc halving event on May 11, 2020 7:23:43 PM UTC.\n",
    "\n",
    "\n",
    "# Comparing the indices GBTC , ETHE ,  GLD\n",
    "#  Plot price action of GBTC , ETHE , GLD\n",
    "# Plot 5 year price action of  GBTC , ETHE , GLD\n",
    "# Plot 200 day moving average of GBTC , ETHE ,  GLD year to date\n",
    "# Plot  5 year market cap growth of GBTC , ETHE ,  GLD\n",
    "\n",
    "Simulations\n",
    "# 5 year Monte Carlo simulations of BTC / ETH / Gold\n",
    "# 5 year Monte Carlo simulations of MARA, RIOT , AU , AEM\n",
    "# 5 year Monte Carlo simulations of GBTC , ETHE ,  GLD\n",
    "\n",
    "Final analysis \n",
    "\n",
    "#Based on our historical data collection , which instrument had the largest move in a 5 year span (BTC, ETH , Gold)?\n",
    "#Based on our historical data collection , which miners had the largest move in a 5 year span (MARA, RIOT , AU , AEM)\n",
    "#Based on our historical data collection , which index  had the largest move in a 5 year span ( GBTC , ETHE ,  GLD)\n",
    "# Based on our collection of data on the instruments , miners,  and indices ,  instrument (____) would be the most profitable with the least amount of risk\n",
    "# Based on our historical data collection, (____) brings in the most profits with the least amount of risk\n",
    "# Based on our Monte CArlo simulation on the instruments , miners,  and indices ,   (____) brings the highest return in 5 years of (__ lowest) and (__highest) of $ __\n",
    "\n",
    "\n",
    "\n",
    "\n",
    "\n"
   ]
  }
 ],
 "metadata": {
  "kernelspec": {
   "display_name": "Python 3",
   "language": "python",
   "name": "python3"
  },
  "language_info": {
   "codemirror_mode": {
    "name": "ipython",
    "version": 3
   },
   "file_extension": ".py",
   "mimetype": "text/x-python",
   "name": "python",
   "nbconvert_exporter": "python",
   "pygments_lexer": "ipython3",
   "version": "3.8.8"
  }
 },
 "nbformat": 4,
 "nbformat_minor": 5
}
