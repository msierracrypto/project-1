{
 "cells": [
  {
   "cell_type": "markdown",
   "id": "65e0ca4f-790f-4427-8fb5-e868ffdf609e",
   "metadata": {},
   "source": [
    "# Something"
   ]
  },
  {
   "cell_type": "code",
   "execution_count": null,
<<<<<<< HEAD
   "id": "653c8453-f440-402d-a37e-f202aa4059f9",
=======
   "id": "32572a1a-575e-4b75-979c-7fce5ab856a0",
>>>>>>> 0bcc6d7b2202d9bd6b16147970a61f91f1c39273
   "metadata": {},
   "outputs": [],
   "source": [
    "# Initial Imports\n",
    "import os\n",
    "import requests\n",
    "import pandas as pd\n",
    "from dotenv import load_dotenv\n",
    "import alpaca_trade_api as tradeapi\n",
    "from MCForecastTools import MCSimulation\n",
    "\n",
    "%matplotlib inline"
   ]
  },
  {
   "cell_type": "code",
   "execution_count": null,
   "id": "e4d31bc9-a419-4431-88b4-91301abea0a4",
   "metadata": {},
   "outputs": [],
   "source": [
    "# Load .env variables\n",
    "load_dotenv()"
   ]
  },
  {
   "cell_type": "code",
   "execution_count": null,
   "id": "cde078d7-36a7-4b25-af78-0f283e760bfd",
   "metadata": {},
   "outputs": [],
   "source": [
    "my_btc ="
   ]
  },
  {
   "cell_type": "code",
   "execution_count": null,
   "id": "0922041d-d163-4631-bd22-823e59a392eb",
   "metadata": {},
   "outputs": [],
   "source": [
    "# Crypto API URLS\n"
   ]
  },
  {
   "cell_type": "code",
   "execution_count": null,
   "id": "a0ca41bd-df91-4ff0-a4aa-ad2938ecb08d",
   "metadata": {},
   "outputs": [],
   "source": [
    "# Gold API URL "
   ]
  }
 ],
 "metadata": {
  "kernelspec": {
   "display_name": "Python 3",
   "language": "python",
   "name": "python3"
  },
  "language_info": {
   "codemirror_mode": {
    "name": "ipython",
    "version": 3
   },
   "file_extension": ".py",
   "mimetype": "text/x-python",
   "name": "python",
   "nbconvert_exporter": "python",
   "pygments_lexer": "ipython3",
   "version": "3.8.8"
  }
 },
 "nbformat": 4,
 "nbformat_minor": 5
}
