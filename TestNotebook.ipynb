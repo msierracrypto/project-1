{
 "cells": [
  {
   "cell_type": "markdown",
   "id": "65e0ca4f-790f-4427-8fb5-e868ffdf609e",
   "metadata": {},
   "source": [
    "# Something"
   ]
  },
  {
   "cell_type": "code",
   "execution_count": 1,
   "id": "32572a1a-575e-4b75-979c-7fce5ab856a0",
   "metadata": {},
   "outputs": [],
   "source": [
    "- imports\n",
    "\n",
    "- grab data\n",
    " setup APIs\n",
    "\n",
    "- use Pandas\n",
    "\n",
    "-Monte carlo simulation\n",
    "\n",
    "- Charts\n",
    "\n",
    "- dashboards"
   ]
  },
  {
   "cell_type": "code",
   "execution_count": null,
   "id": "abcdae41-1391-475a-960c-4fa959cdc8ea",
   "metadata": {},
   "outputs": [],
   "source": [
    "Vlad's notes:\n",
    "Setup data\n",
    "Fetch data\n",
    "Monte carlo simulation\n",
    "volume during halving events\n",
    "correlation between cryptos and gold\n",
    "what did gold do halving events\n",
    "what did cryptos do during gold breakout\n",
    "show the correlation value between btc and eth. Is it a strong correlation?\n",
    "did cryptos really take away market strength from gold based on gold historical movements\n",
    "compare & plot  moving averages since btc and eth inception\n",
    "Are cryptos"
   ]
  }
 ],
 "metadata": {
  "kernelspec": {
   "display_name": "Python 3",
   "language": "python",
   "name": "python3"
  },
  "language_info": {
   "codemirror_mode": {
    "name": "ipython",
    "version": 3
   },
   "file_extension": ".py",
   "mimetype": "text/x-python",
   "name": "python",
   "nbconvert_exporter": "python",
   "pygments_lexer": "ipython3",
   "version": "3.8.5"
  }
 },
 "nbformat": 4,
 "nbformat_minor": 5
}
