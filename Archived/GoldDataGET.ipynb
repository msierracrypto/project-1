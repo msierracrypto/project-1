{
 "cells": [
  {
   "cell_type": "markdown",
   "id": "65e0ca4f-790f-4427-8fb5-e868ffdf609e",
   "metadata": {},
   "source": [
    "# Getting GOLD data"
   ]
  },
  {
   "cell_type": "code",
   "execution_count": 16,
   "id": "21f433d1-d55e-44b9-8ee1-d358d8692d12",
   "metadata": {},
   "outputs": [],
   "source": [
    "import plotly.express as px\n",
    "import panel as pn\n",
    "import pandas as pd\n",
    "import os\n",
    "from pathlib import Path\n",
    "from dotenv import load_dotenv\n",
    "from MCForecastTools import MCSimulation\n",
    "import datetime as dt\n",
    "from datetime import datetime\n",
    "import numpy as np\n",
    "import requests\n",
    "import time\n",
    "\n",
    "import hvplot.pandas\n",
    "import plotly.express as px"
   ]
  },
  {
   "cell_type": "code",
   "execution_count": 17,
   "id": "d3cb31c1-da23-4c1d-aeda-9b3f975d74ab",
   "metadata": {},
   "outputs": [],
   "source": [
    "load_dotenv()\n",
    "api_key = os.getenv(\"GOLD_API_KEY\")"
   ]
  },
  {
   "cell_type": "code",
   "execution_count": 40,
   "id": "0f3202b0-cf63-4d59-96be-ef584c19c775",
   "metadata": {},
   "outputs": [],
   "source": [
    "start_date = dt.datetime(1971,8,1)\n",
    "end_date = dt.datetime(1972,8,1)\n",
    "\n",
    "metal = 'XAU'\n",
    "currency = 'USD'"
   ]
  },
  {
   "cell_type": "code",
   "execution_count": 42,
   "id": "fdfd3dca-f34e-4a47-938a-d95ea7c42d08",
   "metadata": {},
   "outputs": [
    {
     "name": "stdout",
     "output_type": "stream",
     "text": [
      "Start: 2021-07-25 15:06:57.656571\n",
      "{'error': 'Monthly API quota exceeded. Add billing details to upgrade to Unlimited reqs/month plan.'}\n"
     ]
    },
    {
     "ename": "KeyError",
     "evalue": "'price'",
     "output_type": "error",
     "traceback": [
      "\u001b[0;31m---------------------------------------------------------------------------\u001b[0m",
      "\u001b[0;31mKeyError\u001b[0m                                  Traceback (most recent call last)",
      "\u001b[0;32m<ipython-input-42-c09b8706c9fc>\u001b[0m in \u001b[0;36m<module>\u001b[0;34m\u001b[0m\n\u001b[1;32m     11\u001b[0m     \u001b[0mprint\u001b[0m\u001b[0;34m(\u001b[0m\u001b[0;34mf'{json_response}'\u001b[0m\u001b[0;34m)\u001b[0m\u001b[0;34m\u001b[0m\u001b[0;34m\u001b[0m\u001b[0m\n\u001b[1;32m     12\u001b[0m \u001b[0;34m\u001b[0m\u001b[0m\n\u001b[0;32m---> 13\u001b[0;31m     \u001b[0mprice\u001b[0m \u001b[0;34m=\u001b[0m \u001b[0mjson_response\u001b[0m\u001b[0;34m[\u001b[0m\u001b[0;34m'price'\u001b[0m\u001b[0;34m]\u001b[0m\u001b[0;34m\u001b[0m\u001b[0;34m\u001b[0m\u001b[0m\n\u001b[0m\u001b[1;32m     14\u001b[0m \u001b[0;34m\u001b[0m\u001b[0m\n\u001b[1;32m     15\u001b[0m     \u001b[0msingle_date_dt\u001b[0m \u001b[0;34m=\u001b[0m \u001b[0mdt\u001b[0m\u001b[0;34m.\u001b[0m\u001b[0mdatetime\u001b[0m\u001b[0;34m(\u001b[0m\u001b[0msingle_date\u001b[0m\u001b[0;34m.\u001b[0m\u001b[0myear\u001b[0m\u001b[0;34m,\u001b[0m \u001b[0msingle_date\u001b[0m\u001b[0;34m.\u001b[0m\u001b[0mmonth\u001b[0m\u001b[0;34m,\u001b[0m \u001b[0msingle_date\u001b[0m\u001b[0;34m.\u001b[0m\u001b[0mday\u001b[0m\u001b[0;34m)\u001b[0m\u001b[0;34m\u001b[0m\u001b[0;34m\u001b[0m\u001b[0m\n",
      "\u001b[0;31mKeyError\u001b[0m: 'price'"
     ]
    }
   ],
   "source": [
    "daterange = pd.date_range(start_date, end_date)\n",
    "gold_data = []\n",
    "\n",
    "print(f'Start: {datetime.now()}')\n",
    "\n",
    "for single_date in daterange:\n",
    "    request_url = f'https://www.goldapi.io/api/{metal}/{currency}/{single_date.strftime(\"%Y%m%d\")}'\n",
    "    \n",
    "    response = requests.get(request_url, headers={'x-access-token': api_key})\n",
    "    json_response = response.json()\n",
    "    print(f'{json_response}')\n",
    "    \n",
    "    price = json_response['price']\n",
    "    \n",
    "    single_date_dt = dt.datetime(single_date.year, single_date.month, single_date.day)\n",
    "    \n",
    "    single_data = [single_date_dt, metal, price]\n",
    "    gold_data.append(single_data)\n",
    "    \n",
    "    time.sleep(.30)\n",
    "\n",
    "#cvs file \n",
    "#Date,metal,price\n",
    "\n",
    "df = pd.DataFrame(gold_data, columns = ['Date', 'Metal', 'Price'])\n",
    "\n",
    "df.to_csv('gold-price-history-1971-1981.csv', index = False)\n",
    "\n",
    "print(f'End: {datetime.now()}')\n"
   ]
  },
  {
   "cell_type": "code",
   "execution_count": null,
   "id": "c559c20d-6231-4d72-9f41-caf9a1739601",
   "metadata": {},
   "outputs": [],
   "source": [
    "    "
   ]
  }
 ],
 "metadata": {
  "kernelspec": {
   "display_name": "Python 3",
   "language": "python",
   "name": "python3"
  },
  "language_info": {
   "codemirror_mode": {
    "name": "ipython",
    "version": 3
   },
   "file_extension": ".py",
   "mimetype": "text/x-python",
   "name": "python",
   "nbconvert_exporter": "python",
   "pygments_lexer": "ipython3",
   "version": "3.8.8"
  }
 },
 "nbformat": 4,
 "nbformat_minor": 5
}
