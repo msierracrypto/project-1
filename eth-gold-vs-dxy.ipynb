{
 "cells": [
  {
   "cell_type": "code",
   "execution_count": 24,
   "id": "6da5870c-e98c-47f9-b97f-e10708901dc1",
   "metadata": {},
   "outputs": [],
   "source": [
    "import plotly.express as px\n",
    "import panel as pn\n",
    "import pandas as pd\n",
    "import os\n",
    "from pathlib import Path\n",
    "#from dotenv import load_dotenv\n",
    "import datetime as dt\n",
    "import numpy as np\n",
    "\n",
    "#import hvplot.pandas\n",
    "#import plotly.express as px\n",
    "%matplotlib inline"
   ]
  },
  {
   "cell_type": "code",
   "execution_count": 25,
   "id": "b2bcaf5d-8ef9-4d44-ae68-659d0c3a2414",
   "metadata": {},
   "outputs": [
    {
     "data": {
      "text/html": [
       "<div>\n",
       "<style scoped>\n",
       "    .dataframe tbody tr th:only-of-type {\n",
       "        vertical-align: middle;\n",
       "    }\n",
       "\n",
       "    .dataframe tbody tr th {\n",
       "        vertical-align: top;\n",
       "    }\n",
       "\n",
       "    .dataframe thead th {\n",
       "        text-align: right;\n",
       "    }\n",
       "</style>\n",
       "<table border=\"1\" class=\"dataframe\">\n",
       "  <thead>\n",
       "    <tr style=\"text-align: right;\">\n",
       "      <th></th>\n",
       "      <th>Open</th>\n",
       "      <th>High</th>\n",
       "      <th>Low</th>\n",
       "      <th>Close</th>\n",
       "      <th>Adj Close</th>\n",
       "    </tr>\n",
       "    <tr>\n",
       "      <th>Date</th>\n",
       "      <th></th>\n",
       "      <th></th>\n",
       "      <th></th>\n",
       "      <th></th>\n",
       "      <th></th>\n",
       "    </tr>\n",
       "  </thead>\n",
       "  <tbody>\n",
       "    <tr>\n",
       "      <th>1971-08-24</th>\n",
       "      <td>117.839996</td>\n",
       "      <td>117.839996</td>\n",
       "      <td>117.839996</td>\n",
       "      <td>117.839996</td>\n",
       "      <td>117.839996</td>\n",
       "    </tr>\n",
       "    <tr>\n",
       "      <th>1971-08-25</th>\n",
       "      <td>117.839996</td>\n",
       "      <td>117.839996</td>\n",
       "      <td>117.839996</td>\n",
       "      <td>117.839996</td>\n",
       "      <td>117.839996</td>\n",
       "    </tr>\n",
       "    <tr>\n",
       "      <th>1971-08-26</th>\n",
       "      <td>117.839996</td>\n",
       "      <td>117.839996</td>\n",
       "      <td>117.839996</td>\n",
       "      <td>117.839996</td>\n",
       "      <td>117.839996</td>\n",
       "    </tr>\n",
       "    <tr>\n",
       "      <th>1971-08-27</th>\n",
       "      <td>117.839996</td>\n",
       "      <td>117.839996</td>\n",
       "      <td>117.839996</td>\n",
       "      <td>117.839996</td>\n",
       "      <td>117.839996</td>\n",
       "    </tr>\n",
       "    <tr>\n",
       "      <th>1971-08-30</th>\n",
       "      <td>117.839996</td>\n",
       "      <td>117.839996</td>\n",
       "      <td>117.839996</td>\n",
       "      <td>117.839996</td>\n",
       "      <td>117.839996</td>\n",
       "    </tr>\n",
       "  </tbody>\n",
       "</table>\n",
       "</div>"
      ],
      "text/plain": [
       "                  Open        High         Low       Close   Adj Close\n",
       "Date                                                                  \n",
       "1971-08-24  117.839996  117.839996  117.839996  117.839996  117.839996\n",
       "1971-08-25  117.839996  117.839996  117.839996  117.839996  117.839996\n",
       "1971-08-26  117.839996  117.839996  117.839996  117.839996  117.839996\n",
       "1971-08-27  117.839996  117.839996  117.839996  117.839996  117.839996\n",
       "1971-08-30  117.839996  117.839996  117.839996  117.839996  117.839996"
      ]
     },
     "execution_count": 25,
     "metadata": {},
     "output_type": "execute_result"
    }
   ],
   "source": [
    "dxy_hist_path = Path(\"./Resources/dxy-price-history.csv\")\n",
    "dxy_hist_df = pd.read_csv(dxy_hist_path, index_col=\"Date\", infer_datetime_format=True, parse_dates=True)\n",
    "dxy_hist_df.index = pd.to_datetime(dxy_hist_df.index)\n",
    "\n",
    "#drop Volume Column\n",
    "dxy_hist_df.drop(columns = ['Volume'], inplace=True)\n",
    "\n",
    "dxy_hist_df.dropna(inplace=True)\n",
    "dxy_hist_df.head()"
   ]
  },
  {
   "cell_type": "code",
   "execution_count": 26,
   "id": "91872f0a-1b17-4c60-acf1-9f88a6528530",
   "metadata": {},
   "outputs": [],
   "source": [
    "dxy_hist_close_df = dxy_hist_df[['Close']]\n",
    "dxy_hist_pct_df = dxy_hist_close_df.pct_change()"
   ]
  },
  {
   "cell_type": "code",
   "execution_count": 28,
   "id": "ddd5a73b-4f4d-46f0-abfd-1dc0a438e19b",
   "metadata": {},
   "outputs": [
    {
     "data": {
      "text/plain": [
       "<matplotlib.axes._subplots.AxesSubplot at 0x7f877f4d2a00>"
      ]
     },
     "execution_count": 28,
     "metadata": {},
     "output_type": "execute_result"
    },
    {
     "data": {
      "image/png": "[encoded data removed]",
      "text/plain": [
       "<Figure size 432x288 with 1 Axes>"
      ]
     },
     "metadata": {
      "needs_background": "light"
     },
     "output_type": "display_data"
    }
   ],
   "source": [
    "cumulative_returns = (1 + dxy_hist_pct_df).cumprod()\n",
    "cumulative_returns.dropna(inplace=True)\n",
    "#type(cumulative_returns.index.dtype)\n",
    "cumulative_returns.plot()"
   ]
  },
  {
   "cell_type": "code",
   "execution_count": null,
   "id": "85e8ab9b-4e0d-4adf-bc88-9be68a4c2778",
   "metadata": {},
   "outputs": [],
   "source": []
  }
 ],
 "metadata": {
  "kernelspec": {
   "display_name": "Python 3",
   "language": "python",
   "name": "python3"
  },
  "language_info": {
   "codemirror_mode": {
    "name": "ipython",
    "version": 3
   },
   "file_extension": ".py",
   "mimetype": "text/x-python",
   "name": "python",
   "nbconvert_exporter": "python",
   "pygments_lexer": "ipython3",
   "version": "3.8.5"
  }
 },
 "nbformat": 4,
 "nbformat_minor": 5
}
