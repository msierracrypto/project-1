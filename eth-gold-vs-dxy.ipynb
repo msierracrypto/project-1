{
 "cells": [
  {
   "cell_type": "code",
   "execution_count": 4,
   "id": "6da5870c-e98c-47f9-b97f-e10708901dc1",
   "metadata": {},
   "outputs": [],
   "source": [
    "import plotly.express as px\n",
    "import panel as pn\n",
    "import pandas as pd\n",
    "import os\n",
    "from pathlib import Path\n",
    "from dotenv import load_dotenv\n",
    "import datetime as dt\n",
    "import numpy as np\n",
    "\n",
    "import hvplot.pandas\n",
    "import plotly.express as px"
   ]
  },
  {
   "cell_type": "code",
   "execution_count": 5,
   "id": "b2bcaf5d-8ef9-4d44-ae68-659d0c3a2414",
   "metadata": {},
   "outputs": [
    {
     "data": {
      "text/html": [
       "<div>\n",
       "<style scoped>\n",
       "    .dataframe tbody tr th:only-of-type {\n",
       "        vertical-align: middle;\n",
       "    }\n",
       "\n",
       "    .dataframe tbody tr th {\n",
       "        vertical-align: top;\n",
       "    }\n",
       "\n",
       "    .dataframe thead th {\n",
       "        text-align: right;\n",
       "    }\n",
       "</style>\n",
       "<table border=\"1\" class=\"dataframe\">\n",
       "  <thead>\n",
       "    <tr style=\"text-align: right;\">\n",
       "      <th></th>\n",
       "      <th>Open</th>\n",
       "      <th>High</th>\n",
       "      <th>Low</th>\n",
       "      <th>Close</th>\n",
       "      <th>Adj Close</th>\n",
       "      <th>Volume</th>\n",
       "    </tr>\n",
       "    <tr>\n",
       "      <th>Date</th>\n",
       "      <th></th>\n",
       "      <th></th>\n",
       "      <th></th>\n",
       "      <th></th>\n",
       "      <th></th>\n",
       "      <th></th>\n",
       "    </tr>\n",
       "  </thead>\n",
       "  <tbody>\n",
       "    <tr>\n",
       "      <th>1971-08-24</th>\n",
       "      <td>117.839996</td>\n",
       "      <td>117.839996</td>\n",
       "      <td>117.839996</td>\n",
       "      <td>117.839996</td>\n",
       "      <td>117.839996</td>\n",
       "      <td>0.0</td>\n",
       "    </tr>\n",
       "    <tr>\n",
       "      <th>1971-08-25</th>\n",
       "      <td>117.839996</td>\n",
       "      <td>117.839996</td>\n",
       "      <td>117.839996</td>\n",
       "      <td>117.839996</td>\n",
       "      <td>117.839996</td>\n",
       "      <td>0.0</td>\n",
       "    </tr>\n",
       "    <tr>\n",
       "      <th>1971-08-26</th>\n",
       "      <td>117.839996</td>\n",
       "      <td>117.839996</td>\n",
       "      <td>117.839996</td>\n",
       "      <td>117.839996</td>\n",
       "      <td>117.839996</td>\n",
       "      <td>0.0</td>\n",
       "    </tr>\n",
       "    <tr>\n",
       "      <th>1971-08-27</th>\n",
       "      <td>117.839996</td>\n",
       "      <td>117.839996</td>\n",
       "      <td>117.839996</td>\n",
       "      <td>117.839996</td>\n",
       "      <td>117.839996</td>\n",
       "      <td>0.0</td>\n",
       "    </tr>\n",
       "    <tr>\n",
       "      <th>1971-08-29</th>\n",
       "      <td>NaN</td>\n",
       "      <td>NaN</td>\n",
       "      <td>NaN</td>\n",
       "      <td>NaN</td>\n",
       "      <td>NaN</td>\n",
       "      <td>NaN</td>\n",
       "    </tr>\n",
       "  </tbody>\n",
       "</table>\n",
       "</div>"
      ],
      "text/plain": [
       "                  Open        High         Low       Close   Adj Close  Volume\n",
       "Date                                                                          \n",
       "1971-08-24  117.839996  117.839996  117.839996  117.839996  117.839996     0.0\n",
       "1971-08-25  117.839996  117.839996  117.839996  117.839996  117.839996     0.0\n",
       "1971-08-26  117.839996  117.839996  117.839996  117.839996  117.839996     0.0\n",
       "1971-08-27  117.839996  117.839996  117.839996  117.839996  117.839996     0.0\n",
       "1971-08-29         NaN         NaN         NaN         NaN         NaN     NaN"
      ]
     },
     "execution_count": 5,
     "metadata": {},
     "output_type": "execute_result"
    }
   ],
   "source": [
    "dxy_hist_path = Path(\"dxy-price-history.csv\")\n",
    "dxy_hist_df = pd.read_csv(dxy_hist_path, index_col=\"Date\", infer_datetime_format=True, parse_dates=True)\n",
    "dxy_hist_df.index = pd.to_datetime(dxy_hist_df.index)\n",
    "dxy_hist_df.head()"
   ]
  },
  {
   "cell_type": "code",
   "execution_count": null,
   "id": "cf71d1ee-5f69-473c-805f-93852ab11b8b",
   "metadata": {},
   "outputs": [],
   "source": []
  }
 ],
 "metadata": {
  "kernelspec": {
   "display_name": "Python 3",
   "language": "python",
   "name": "python3"
  },
  "language_info": {
   "codemirror_mode": {
    "name": "ipython",
    "version": 3
   },
   "file_extension": ".py",
   "mimetype": "text/x-python",
   "name": "python",
   "nbconvert_exporter": "python",
   "pygments_lexer": "ipython3",
   "version": "3.8.5"
  }
 },
 "nbformat": 4,
 "nbformat_minor": 5
}
